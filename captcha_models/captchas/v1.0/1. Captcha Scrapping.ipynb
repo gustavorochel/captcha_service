{
 "cells": [
  {
   "cell_type": "markdown",
   "metadata": {},
   "source": [
    "### Importing Libs"
   ]
  },
  {
   "cell_type": "code",
   "execution_count": 1,
   "metadata": {},
   "outputs": [],
   "source": [
    "import urllib\n",
    "from urllib.parse import urljoin, urlparse"
   ]
  },
  {
   "cell_type": "markdown",
   "metadata": {},
   "source": [
    "### Saving desired captchas"
   ]
  },
  {
   "cell_type": "code",
   "execution_count": 2,
   "metadata": {},
   "outputs": [],
   "source": [
    "# 1000 images for training the model\n",
    "for i in range(1000):\n",
    "    urllib.request.urlretrieve(\"https://www4.tjmg.jus.br/juridico/sf/captcha.svl\", \n",
    "                               f\"real_captcha/train/example{i}.jpeg\")"
   ]
  },
  {
   "cell_type": "code",
   "execution_count": 3,
   "metadata": {},
   "outputs": [],
   "source": [
    "# 200 images for testing the model\n",
    "for i in range(200):\n",
    "    urllib.request.urlretrieve(\"https://www4.tjmg.jus.br/juridico/sf/captcha.svl\", \n",
    "                               f\"real_captcha/test/example{i}.jpeg\")"
   ]
  }
 ],
 "metadata": {
  "kernelspec": {
   "display_name": "Python 3 (ipykernel)",
   "language": "python",
   "name": "python3"
  },
  "language_info": {
   "codemirror_mode": {
    "name": "ipython",
    "version": 3
   },
   "file_extension": ".py",
   "mimetype": "text/x-python",
   "name": "python",
   "nbconvert_exporter": "python",
   "pygments_lexer": "ipython3",
   "version": "3.8.13"
  }
 },
 "nbformat": 4,
 "nbformat_minor": 4
}
